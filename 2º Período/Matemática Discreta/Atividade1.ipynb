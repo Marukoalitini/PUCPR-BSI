{
 "cells": [
  {
   "metadata": {},
   "cell_type": "markdown",
   "source": "Exercício 1",
   "id": "8ff4c24f55f3b59b"
  },
  {
   "metadata": {
    "ExecuteTime": {
     "end_time": "2024-08-22T01:02:20.894124Z",
     "start_time": "2024-08-22T01:02:20.886859Z"
    }
   },
   "cell_type": "code",
   "source": [
    "A = {1,2,3,4,5,6}\n",
    "print(A)"
   ],
   "id": "21f7b5c1ac99daa5",
   "outputs": [
    {
     "name": "stdout",
     "output_type": "stream",
     "text": [
      "{1, 2, 3, 4, 5, 6}\n"
     ]
    }
   ],
   "execution_count": 225
  },
  {
   "metadata": {},
   "cell_type": "markdown",
   "source": "Exercício 2",
   "id": "82741e387d4c5d64"
  },
  {
   "metadata": {
    "collapsed": true,
    "ExecuteTime": {
     "end_time": "2024-08-22T01:02:21.028583Z",
     "start_time": "2024-08-22T01:02:20.938577Z"
    }
   },
   "cell_type": "code",
   "source": [
    "lista = [\"bananas\",\"peras\",\"laranjas\",\"abacates\"]\n",
    "B = set(lista)\n",
    "print(B)"
   ],
   "id": "initial_id",
   "outputs": [
    {
     "name": "stdout",
     "output_type": "stream",
     "text": [
      "{'abacates', 'bananas', 'peras', 'laranjas'}\n"
     ]
    }
   ],
   "execution_count": 226
  },
  {
   "metadata": {},
   "cell_type": "markdown",
   "source": "Exercício 3",
   "id": "3ea3d2adb0d3310"
  },
  {
   "metadata": {
    "ExecuteTime": {
     "end_time": "2024-08-22T01:02:21.163065Z",
     "start_time": "2024-08-22T01:02:21.066060Z"
    }
   },
   "cell_type": "code",
   "source": [
    "lista = [\"bananas\",\"peras\",\"laranjas\",\"limões\",\"bananas\",\"bananas\",\"abacates\",\"laranjas\"]\n",
    "B = set(lista)\n",
    "print(B)"
   ],
   "id": "f4f1fc5ba77f1a35",
   "outputs": [
    {
     "name": "stdout",
     "output_type": "stream",
     "text": [
      "{'bananas', 'abacates', 'laranjas', 'limões', 'peras'}\n"
     ]
    }
   ],
   "execution_count": 227
  },
  {
   "metadata": {},
   "cell_type": "markdown",
   "source": [
    "Comparando os itens 2 e 3, a que conclusão podemos chegar?\n",
    "R: O comando set() cria um conjunto de elementos únicos, logo os itens repetidos são ignorados."
   ],
   "id": "63b6ebd03e517ba0"
  },
  {
   "metadata": {},
   "cell_type": "markdown",
   "source": "Exercício 4",
   "id": "754ff56fb3dcb346"
  },
  {
   "metadata": {
    "ExecuteTime": {
     "end_time": "2024-08-22T01:02:21.304663Z",
     "start_time": "2024-08-22T01:02:21.195050Z"
    }
   },
   "cell_type": "code",
   "source": "print(\"A cardinalidade do conjunto B = \", B, \" é \", len(B))",
   "id": "14d5f461afcfea1d",
   "outputs": [
    {
     "name": "stdout",
     "output_type": "stream",
     "text": [
      "A cardinalidade do conjunto B =  {'bananas', 'abacates', 'laranjas', 'limões', 'peras'}  é  5\n"
     ]
    }
   ],
   "execution_count": 228
  },
  {
   "metadata": {},
   "cell_type": "markdown",
   "source": "Exercício 5",
   "id": "127e62bd95192317"
  },
  {
   "metadata": {
    "ExecuteTime": {
     "end_time": "2024-08-22T01:02:21.459776Z",
     "start_time": "2024-08-22T01:02:21.336485Z"
    }
   },
   "cell_type": "code",
   "source": [
    "A = {1,2,3,4,5}\n",
    "print(\"a) 2 ∈ 𝐴\")\n",
    "print (2 in A)\n",
    "print(\"b) 6 ∈ 𝐴\")\n",
    "print (6 in A)\n",
    "print(\"c) ∅ ∈ 𝐴\")\n",
    "print (set() in A)"
   ],
   "id": "d8c39819203b1482",
   "outputs": [
    {
     "name": "stdout",
     "output_type": "stream",
     "text": [
      "a) 2 ∈ 𝐴\n",
      "True\n",
      "b) 6 ∈ 𝐴\n",
      "False\n",
      "c) ∅ ∈ 𝐴\n",
      "False\n"
     ]
    }
   ],
   "execution_count": 229
  },
  {
   "metadata": {},
   "cell_type": "markdown",
   "source": "Exercício 6",
   "id": "bd0172929a6a1b25"
  },
  {
   "metadata": {
    "ExecuteTime": {
     "end_time": "2024-08-22T01:02:21.584595Z",
     "start_time": "2024-08-22T01:02:21.489261Z"
    }
   },
   "cell_type": "code",
   "source": [
    "A = {1,2,3}\n",
    "B = {3,2,1}\n",
    "print (A == B)"
   ],
   "id": "c5fe840b1085bd3d",
   "outputs": [
    {
     "name": "stdout",
     "output_type": "stream",
     "text": [
      "True\n"
     ]
    }
   ],
   "execution_count": 230
  },
  {
   "metadata": {},
   "cell_type": "markdown",
   "source": "Exercício 7",
   "id": "e7d942cb737e1d88"
  },
  {
   "metadata": {
    "ExecuteTime": {
     "end_time": "2024-08-22T01:02:21.726713Z",
     "start_time": "2024-08-22T01:02:21.628760Z"
    }
   },
   "cell_type": "code",
   "source": [
    "C = {2,3,4}\n",
    "\n",
    "print(\"O conjunto {2} é subconjunto de C?\\n\", {2}.issubset(C))\n",
    "print(\"O conjunto {3} é subconjunto de C?\\n\", {3}.issubset(C))\n",
    "print(\"O conjunto {4} é subconjunto de C?\\n\", {4}.issubset(C))\n",
    "print(\"O conjunto {2,3} é subconjunto de C?\\n\", {2,3}.issubset(C))\n",
    "print(\"O conjunto {2,4} é subconjunto de C?\\n\", {2,4}.issubset(C))\n",
    "print(\"O conjunto {3,4} é subconjunto de C?\\n\", {3,4}.issubset(C))\n",
    "print(\"O conjunto {2,3,4} é subconjunto de C?\\n\", {2,3,4}.issubset(C))"
   ],
   "id": "c42e9e7168643ac2",
   "outputs": [
    {
     "name": "stdout",
     "output_type": "stream",
     "text": [
      "O conjunto {2} é subconjunto de C?\n",
      " True\n",
      "O conjunto {3} é subconjunto de C?\n",
      " True\n",
      "O conjunto {4} é subconjunto de C?\n",
      " True\n",
      "O conjunto {2,3} é subconjunto de C?\n",
      " True\n",
      "O conjunto {2,4} é subconjunto de C?\n",
      " True\n",
      "O conjunto {3,4} é subconjunto de C?\n",
      " True\n",
      "O conjunto {2,3,4} é subconjunto de C?\n",
      " True\n"
     ]
    }
   ],
   "execution_count": 231
  },
  {
   "metadata": {
    "ExecuteTime": {
     "end_time": "2024-08-22T01:02:21.858284Z",
     "start_time": "2024-08-22T01:02:21.760315Z"
    }
   },
   "cell_type": "code",
   "source": "print(\"{1,2} ∈ 𝐴?\\n\", {2} in C)",
   "id": "87f7dd9307ee482c",
   "outputs": [
    {
     "name": "stdout",
     "output_type": "stream",
     "text": [
      "{1,2} ∈ 𝐴?\n",
      " False\n"
     ]
    }
   ],
   "execution_count": 232
  },
  {
   "metadata": {},
   "cell_type": "markdown",
   "source": "Uma vez que foi usado o símbolo de pertinência ∈, o resultado esperado era False, uma vez que o conjunto C não possui conjuntos como elementos, o python respeitou esse resultado.",
   "id": "aad6ba1d67835611"
  },
  {
   "metadata": {
    "ExecuteTime": {
     "end_time": "2024-08-22T01:02:22.001733Z",
     "start_time": "2024-08-22T01:02:21.893244Z"
    }
   },
   "cell_type": "code",
   "source": "print(\"O conjunto ∅ é subconjunto de C?\\n\", set().issubset(C))",
   "id": "9d42d00b5b60ef95",
   "outputs": [
    {
     "name": "stdout",
     "output_type": "stream",
     "text": [
      "O conjunto ∅ é subconjunto de C?\n",
      " True\n"
     ]
    }
   ],
   "execution_count": 233
  },
  {
   "metadata": {},
   "cell_type": "markdown",
   "source": "Uma vez que o conjunto vazio sempre é subconjunto de qualquer conjunto, o resultado esperado era True, o python respeitou esse resultado.",
   "id": "a5062d7beafddba8"
  },
  {
   "metadata": {},
   "cell_type": "markdown",
   "source": "Exercício 8",
   "id": "3bdb3ea0d3517882"
  },
  {
   "metadata": {
    "ExecuteTime": {
     "end_time": "2024-08-22T01:02:22.153862Z",
     "start_time": "2024-08-22T01:02:22.029058Z"
    }
   },
   "cell_type": "code",
   "source": [
    "def isSubconjuntoProprio(A, B):\n",
    "    return A.issubset(B) and A != B\n",
    "A = {1,2,3}\n",
    "C = {1,2,3,4,5}\n",
    "D = {5,3,4,2,1}\n",
    "\n",
    "print(\"A é subconjunto próprio de C?\\n\", isSubconjuntoProprio(A, C))\n",
    "print(\"D é subconjunto próprio de C?\\n\", isSubconjuntoProprio(D, C))"
   ],
   "id": "971e7df6c5528696",
   "outputs": [
    {
     "name": "stdout",
     "output_type": "stream",
     "text": [
      "A é subconjunto próprio de C?\n",
      " True\n",
      "D é subconjunto próprio de C?\n",
      " False\n"
     ]
    }
   ],
   "execution_count": 234
  },
  {
   "metadata": {},
   "cell_type": "markdown",
   "source": "Exercício 9",
   "id": "228ca871cf3432cd"
  },
  {
   "metadata": {
    "ExecuteTime": {
     "end_time": "2024-08-22T01:02:22.293534Z",
     "start_time": "2024-08-22T01:02:22.199521Z"
    }
   },
   "cell_type": "code",
   "source": [
    "A = {1,2,3,4,5}\n",
    "B = {4,5,6,7,8,9,10}\n",
    "AuB = A.union(B)\n",
    "AnB = A.intersection(B)\n",
    "A_B = A.difference(B)\n",
    "B_A = B.difference(A)\n",
    "print(\"a) 𝑨 ∪ 𝑩 = \", AuB)\n",
    "print(\"b) 𝑨 ∩ 𝑩 = \", AnB)\n",
    "print(\"c) A - B = \", A_B)\n",
    "print(\"d) B - A = \", B_A)\n"
   ],
   "id": "ecb635456414a5e9",
   "outputs": [
    {
     "name": "stdout",
     "output_type": "stream",
     "text": [
      "a) 𝑨 ∪ 𝑩 =  {1, 2, 3, 4, 5, 6, 7, 8, 9, 10}\n",
      "b) 𝑨 ∩ 𝑩 =  {4, 5}\n",
      "c) A - B =  {1, 2, 3}\n",
      "d) B - A =  {6, 7, 8, 9, 10}\n"
     ]
    }
   ],
   "execution_count": 235
  },
  {
   "metadata": {},
   "cell_type": "markdown",
   "source": "Exercício 10",
   "id": "34b133e098f2c3b"
  },
  {
   "metadata": {
    "ExecuteTime": {
     "end_time": "2024-08-22T01:03:31.812132Z",
     "start_time": "2024-08-22T01:02:22.326361Z"
    }
   },
   "cell_type": "code",
   "source": [
    "def menu():\n",
    "    A = set()\n",
    "    B = set()\n",
    "    while True:\n",
    "        print(\"1) Inserir conjunto A\")\n",
    "        print(\"2) Inserir conjunto B\")\n",
    "        print(\"3) União\")\n",
    "        print(\"4) Intersecção\")\n",
    "        print(\"5) Diferença\")\n",
    "        print(\"6) Produto Cartesiano\")\n",
    "        print(\"7) Verificar se A é subconjunto de B\")\n",
    "        print(\"8) Verificar se B é subconjunto de A\")\n",
    "        print(\"9) Sair\")\n",
    "        op = int(input(\"Digite a opção desejada: \"))\n",
    "        if op == 1:\n",
    "            A = set(input(\"Digite os elementos do conjunto A separados por espaço: \").split())\n",
    "        elif op == 2:\n",
    "            B = set(input(\"Digite os elementos do conjunto B separados por espaço: \").split())\n",
    "        elif op == 3:\n",
    "            print(\"União: \", A.union(B))\n",
    "        elif op == 4:\n",
    "            print(\"Intersecção: \", A.intersection(B))\n",
    "        elif op == 5:\n",
    "            print(\"Diferença: \", A.difference(B))\n",
    "        elif op == 6:\n",
    "            print(\"Produto Cartesiano: \", {(a,b) for a in A for b in B})\n",
    "        elif op == 7:\n",
    "            print(\"A é subconjunto de B: \", A.issubset(B))\n",
    "        elif op == 8:\n",
    "            print(\"B é subconjunto de A: \", B.issubset(A))\n",
    "        elif op == 9:\n",
    "            break\n",
    "        else:\n",
    "            print(\"Opção inválida\")\n",
    "menu()"
   ],
   "id": "38d6ec12f8bcacdb",
   "outputs": [
    {
     "name": "stdout",
     "output_type": "stream",
     "text": [
      "1) Inserir conjunto A\n",
      "2) Inserir conjunto B\n",
      "3) União\n",
      "4) Intersecção\n",
      "5) Diferença\n",
      "6) Produto Cartesiano\n",
      "7) Verificar se A é subconjunto de B\n",
      "8) Verificar se B é subconjunto de A\n",
      "9) Sair\n",
      "1) Inserir conjunto A\n",
      "2) Inserir conjunto B\n",
      "3) União\n",
      "4) Intersecção\n",
      "5) Diferença\n",
      "6) Produto Cartesiano\n",
      "7) Verificar se A é subconjunto de B\n",
      "8) Verificar se B é subconjunto de A\n",
      "9) Sair\n",
      "1) Inserir conjunto A\n",
      "2) Inserir conjunto B\n",
      "3) União\n",
      "4) Intersecção\n",
      "5) Diferença\n",
      "6) Produto Cartesiano\n",
      "7) Verificar se A é subconjunto de B\n",
      "8) Verificar se B é subconjunto de A\n",
      "9) Sair\n",
      "União:  {'E', 'B', 'D', 'A', 'C'}\n",
      "1) Inserir conjunto A\n",
      "2) Inserir conjunto B\n",
      "3) União\n",
      "4) Intersecção\n",
      "5) Diferença\n",
      "6) Produto Cartesiano\n",
      "7) Verificar se A é subconjunto de B\n",
      "8) Verificar se B é subconjunto de A\n",
      "9) Sair\n",
      "Intersecção:  {'B', 'A', 'C'}\n",
      "1) Inserir conjunto A\n",
      "2) Inserir conjunto B\n",
      "3) União\n",
      "4) Intersecção\n",
      "5) Diferença\n",
      "6) Produto Cartesiano\n",
      "7) Verificar se A é subconjunto de B\n",
      "8) Verificar se B é subconjunto de A\n",
      "9) Sair\n",
      "Diferença:  {'E', 'D'}\n",
      "1) Inserir conjunto A\n",
      "2) Inserir conjunto B\n",
      "3) União\n",
      "4) Intersecção\n",
      "5) Diferença\n",
      "6) Produto Cartesiano\n",
      "7) Verificar se A é subconjunto de B\n",
      "8) Verificar se B é subconjunto de A\n",
      "9) Sair\n",
      "Diferença:  {'E', 'D'}\n",
      "1) Inserir conjunto A\n",
      "2) Inserir conjunto B\n",
      "3) União\n",
      "4) Intersecção\n",
      "5) Diferença\n",
      "6) Produto Cartesiano\n",
      "7) Verificar se A é subconjunto de B\n",
      "8) Verificar se B é subconjunto de A\n",
      "9) Sair\n",
      "Produto Cartesiano:  {('C', 'C'), ('A', 'B'), ('B', 'A'), ('D', 'C'), ('E', 'C'), ('D', 'A'), ('C', 'A'), ('E', 'A'), ('B', 'B'), ('A', 'C'), ('C', 'B'), ('D', 'B'), ('E', 'B'), ('B', 'C'), ('A', 'A')}\n",
      "1) Inserir conjunto A\n",
      "2) Inserir conjunto B\n",
      "3) União\n",
      "4) Intersecção\n",
      "5) Diferença\n",
      "6) Produto Cartesiano\n",
      "7) Verificar se A é subconjunto de B\n",
      "8) Verificar se B é subconjunto de A\n",
      "9) Sair\n",
      "A é subconjunto de B:  False\n",
      "1) Inserir conjunto A\n",
      "2) Inserir conjunto B\n",
      "3) União\n",
      "4) Intersecção\n",
      "5) Diferença\n",
      "6) Produto Cartesiano\n",
      "7) Verificar se A é subconjunto de B\n",
      "8) Verificar se B é subconjunto de A\n",
      "9) Sair\n",
      "A é subconjunto de B:  False\n",
      "1) Inserir conjunto A\n",
      "2) Inserir conjunto B\n",
      "3) União\n",
      "4) Intersecção\n",
      "5) Diferença\n",
      "6) Produto Cartesiano\n",
      "7) Verificar se A é subconjunto de B\n",
      "8) Verificar se B é subconjunto de A\n",
      "9) Sair\n",
      "B é subconjunto de A:  True\n",
      "1) Inserir conjunto A\n",
      "2) Inserir conjunto B\n",
      "3) União\n",
      "4) Intersecção\n",
      "5) Diferença\n",
      "6) Produto Cartesiano\n",
      "7) Verificar se A é subconjunto de B\n",
      "8) Verificar se B é subconjunto de A\n",
      "9) Sair\n"
     ]
    }
   ],
   "execution_count": 236
  }
 ],
 "metadata": {
  "kernelspec": {
   "display_name": "Python 3",
   "language": "python",
   "name": "python3"
  },
  "language_info": {
   "codemirror_mode": {
    "name": "ipython",
    "version": 2
   },
   "file_extension": ".py",
   "mimetype": "text/x-python",
   "name": "python",
   "nbconvert_exporter": "python",
   "pygments_lexer": "ipython2",
   "version": "2.7.6"
  }
 },
 "nbformat": 4,
 "nbformat_minor": 5
}
